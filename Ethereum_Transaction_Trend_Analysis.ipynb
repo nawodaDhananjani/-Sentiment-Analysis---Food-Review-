{
  "nbformat": 4,
  "nbformat_minor": 0,
  "metadata": {
    "colab": {
      "provenance": [],
      "authorship_tag": "ABX9TyMTve9TPa/CXrGVokSZyXwy",
      "include_colab_link": true
    },
    "kernelspec": {
      "name": "python3",
      "display_name": "Python 3"
    },
    "language_info": {
      "name": "python"
    }
  },
  "cells": [
    {
      "cell_type": "markdown",
      "metadata": {
        "id": "view-in-github",
        "colab_type": "text"
      },
      "source": [
        "<a href=\"https://colab.research.google.com/github/nawodaDhananjani/-Sentiment-Analysis---Food-Review-/blob/main/Ethereum_Transaction_Trend_Analysis.ipynb\" target=\"_parent\"><img src=\"https://colab.research.google.com/assets/colab-badge.svg\" alt=\"Open In Colab\"/></a>"
      ]
    },
    {
      "cell_type": "code",
      "execution_count": 1,
      "metadata": {
        "colab": {
          "base_uri": "https://localhost:8080/"
        },
        "id": "NpbgFlGHzWZ4",
        "outputId": "c09a1e14-dafc-43c6-8f56-c0453adb68f9"
      },
      "outputs": [
        {
          "output_type": "stream",
          "name": "stdout",
          "text": [
            "Error fetching data: NOTOK\n"
          ]
        }
      ],
      "source": [
        "import requests\n",
        "import pandas as pd\n",
        "import matplotlib.pyplot as plt\n",
        "from datetime import datetime\n",
        "\n",
        "# Replace with your Etherscan API Key\n",
        "ETHERSCAN_API_KEY = \"your_api_key_here\"\n",
        "\n",
        "# Ethereum wallet address to analyze\n",
        "ETH_WALLET_ADDRESS = \"your_wallet_address_here\"\n",
        "\n",
        "# Etherscan API endpoint\n",
        "API_URL = f\"https://api.etherscan.io/api?module=account&action=txlist&address={ETH_WALLET_ADDRESS}&startblock=0&endblock=99999999&sort=asc&apikey={ETHERSCAN_API_KEY}\"\n",
        "\n",
        "# Fetch transaction data\n",
        "response = requests.get(API_URL)\n",
        "data = response.json()\n",
        "\n",
        "if data[\"status\"] == \"1\":\n",
        "    transactions = data[\"result\"]\n",
        "\n",
        "    # Convert to DataFrame\n",
        "    df = pd.DataFrame(transactions)\n",
        "\n",
        "    # Convert timestamp to datetime\n",
        "    df[\"timeStamp\"] = pd.to_datetime(df[\"timeStamp\"].astype(int), unit='s')\n",
        "\n",
        "    # Extract only date for daily analysis\n",
        "    df[\"date\"] = df[\"timeStamp\"].dt.date\n",
        "\n",
        "    # Count transactions per day\n",
        "    daily_txn_count = df.groupby(\"date\").size()\n",
        "\n",
        "    # Plot transaction trends\n",
        "    plt.figure(figsize=(12, 5))\n",
        "    plt.plot(daily_txn_count.index, daily_txn_count.values, marker=\"o\", linestyle=\"-\", color=\"b\")\n",
        "    plt.xlabel(\"Date\")\n",
        "    plt.ylabel(\"Transaction Count\")\n",
        "    plt.title(f\"Daily Ethereum Transactions for {ETH_WALLET_ADDRESS}\")\n",
        "    plt.xticks(rotation=45)\n",
        "    plt.grid()\n",
        "    plt.show()\n",
        "\n",
        "else:\n",
        "    print(\"Error fetching data:\", data[\"message\"])\n"
      ]
    }
  ]
}